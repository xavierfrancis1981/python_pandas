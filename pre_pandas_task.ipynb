{
 "cells": [
  {
   "cell_type": "markdown",
   "id": "9bd69504-7ad9-48d4-b773-9905a6160e9b",
   "metadata": {},
   "source": [
    "### 1. How to import Pandas"
   ]
  },
  {
   "cell_type": "code",
   "execution_count": 1,
   "id": "754a6dab-aa6a-4d71-8927-1b1d2a3c82f4",
   "metadata": {},
   "outputs": [],
   "source": [
    "import pandas as pd"
   ]
  },
  {
   "cell_type": "markdown",
   "id": "773e5bd8-2116-4d0e-b9ce-4485d2f11248",
   "metadata": {},
   "source": [
    "#### Why do you need to import numpy as well?"
   ]
  },
  {
   "cell_type": "markdown",
   "id": "9782ec41-3e9e-4398-a6cf-9ae2addb0810",
   "metadata": {},
   "source": [
    "In general to use of mathematical operations, handle arrays, and control numerical behavior you need numpy along with pandas.\n",
    "Pandas internally uses NumPy arrays for storing and manipulating data.\n",
    "Operations on DataFrame and Series objects often rely on NumPy’s array operation."
   ]
  },
  {
   "cell_type": "code",
   "execution_count": 9,
   "id": "b05138b9-127a-4d12-a2a2-fcf56a1a061c",
   "metadata": {},
   "outputs": [],
   "source": [
    "import numpy as np"
   ]
  },
  {
   "cell_type": "markdown",
   "id": "999f7122-cad2-44b6-8698-1dbc7111a21f",
   "metadata": {},
   "source": [
    "### 2. Creating a Series from a list"
   ]
  },
  {
   "cell_type": "code",
   "execution_count": 11,
   "id": "c42bfbed-73b8-4508-a08e-b955bd51f1d6",
   "metadata": {},
   "outputs": [
    {
     "name": "stdout",
     "output_type": "stream",
     "text": [
      "0    10\n",
      "1    20\n",
      "2    30\n",
      "3    40\n",
      "dtype: int64\n"
     ]
    }
   ],
   "source": [
    "list_numbers = [10, 20, 30, 40]\n",
    "pd_series = pd.Series(list_numbers)\n",
    "print(pd_series)"
   ]
  },
  {
   "cell_type": "markdown",
   "id": "0bd6ac38-2ef6-4bb5-b946-f7c509716529",
   "metadata": {},
   "source": [
    "#### What can we see as output of the series?"
   ]
  },
  {
   "cell_type": "markdown",
   "id": "d8918689-43e0-41f3-8010-a5da03fe3dc2",
   "metadata": {},
   "source": [
    "We can see that data printed in columnwise with index is assigned automatically (0, 1, 2, 3, ....)."
   ]
  },
  {
   "cell_type": "markdown",
   "id": "b8797c6c-308c-4e45-9411-319d33cc9f02",
   "metadata": {},
   "source": [
    "#### How do we access a single component of the series?\n",
    "#### Access the index"
   ]
  },
  {
   "cell_type": "code",
   "execution_count": 21,
   "id": "61110f3a-eb41-4af5-b11b-f91e63f679f6",
   "metadata": {},
   "outputs": [
    {
     "name": "stdout",
     "output_type": "stream",
     "text": [
      "0\n"
     ]
    }
   ],
   "source": [
    "print(pd_series.index[0])"
   ]
  },
  {
   "cell_type": "markdown",
   "id": "69e9e282-014a-40d3-8cc3-4bbe3cef7179",
   "metadata": {},
   "source": [
    "#### Access the value"
   ]
  },
  {
   "cell_type": "code",
   "execution_count": 22,
   "id": "3f2d0931-da6d-4394-adc5-e0fbcaf9cfe8",
   "metadata": {},
   "outputs": [
    {
     "name": "stdout",
     "output_type": "stream",
     "text": [
      "10\n"
     ]
    }
   ],
   "source": [
    "print(pd_series[0])"
   ]
  },
  {
   "cell_type": "markdown",
   "id": "a65c8d0d-a064-4703-9976-95f003221fc5",
   "metadata": {},
   "source": [
    "#### Access the data type\n"
   ]
  },
  {
   "cell_type": "code",
   "execution_count": 26,
   "id": "1a220aa5-2a61-4563-840b-9015ac8ebd09",
   "metadata": {},
   "outputs": [
    {
     "name": "stdout",
     "output_type": "stream",
     "text": [
      "<class 'pandas.core.series.Series'>\n",
      "int64\n"
     ]
    }
   ],
   "source": [
    "print(type(pd_series))\n",
    "print(pd_series.dtype)"
   ]
  },
  {
   "cell_type": "markdown",
   "id": "4f202cd0-316f-40f1-b1f0-431e82eaf3ec",
   "metadata": {},
   "source": [
    "### 3. Create a Series with an index"
   ]
  },
  {
   "cell_type": "code",
   "execution_count": 57,
   "id": "ff3a4350-ed33-443d-85db-39639973848a",
   "metadata": {},
   "outputs": [
    {
     "name": "stdout",
     "output_type": "stream",
     "text": [
      "a    15\n",
      "b    20\n",
      "c    25\n",
      "d    30\n",
      "e    35\n",
      "f    40\n",
      "dtype: int64\n"
     ]
    }
   ],
   "source": [
    "list = [15, 20, 25, 30, 35, 40]\n",
    "custom_index = ['a', 'b', 'c', 'd', 'e', 'f']\n",
    "pd_series_with_index = pd.Series(list, index=custom_index)\n",
    "print(pd_series_with_index)"
   ]
  },
  {
   "cell_type": "markdown",
   "id": "7cc6369a-a95c-459c-9bc3-b293d7b0d799",
   "metadata": {},
   "source": [
    "#### Check the index of the created Series"
   ]
  },
  {
   "cell_type": "code",
   "execution_count": 58,
   "id": "bb3ff6ee-ed18-401f-a896-93dc001e3976",
   "metadata": {},
   "outputs": [
    {
     "name": "stdout",
     "output_type": "stream",
     "text": [
      "Index(['a', 'b', 'c', 'd', 'e', 'f'], dtype='object')\n",
      "a\n",
      "b\n",
      "c\n",
      "d\n",
      "e\n",
      "f\n"
     ]
    }
   ],
   "source": [
    "print(pd_series_with_index.index)\n",
    "for i in range(len(pd_series_with_index.index)):\n",
    "    print(pd_series_with_index.index[i])"
   ]
  },
  {
   "cell_type": "markdown",
   "id": "ddd600a4-a19e-47ff-947b-9352d3cc05ec",
   "metadata": {},
   "source": [
    "### 4. How do you access a value using the index name?"
   ]
  },
  {
   "cell_type": "code",
   "execution_count": 103,
   "id": "9f2d4eef-e754-4f3c-92d4-a5815c8ffaf8",
   "metadata": {},
   "outputs": [
    {
     "name": "stdout",
     "output_type": "stream",
     "text": [
      "Method 1\n",
      "15\n",
      "20\n",
      "25\n",
      "30\n",
      "35\n",
      "40\n",
      "Method 2\n",
      "15\n",
      "20\n",
      "25\n",
      "30\n",
      "35\n",
      "40\n"
     ]
    }
   ],
   "source": [
    "# Method 1\n",
    "print(\"Method 1\")\n",
    "for item in custom_index:\n",
    "    print(pd_series_with_index[item])\n",
    "# Method2\n",
    "print(\"Method 2\")\n",
    "for item in pd_series_with_index.index:\n",
    "    print(pd_series_with_index[item])"
   ]
  },
  {
   "cell_type": "markdown",
   "id": "e46a2648-7a69-41a7-9c10-379beffa5e37",
   "metadata": {},
   "source": [
    "### 5. Access a value using a positional index"
   ]
  },
  {
   "cell_type": "code",
   "execution_count": 80,
   "id": "377862ce-a86e-4cc2-b4ab-ce6aa700cbdc",
   "metadata": {},
   "outputs": [
    {
     "name": "stdout",
     "output_type": "stream",
     "text": [
      "15\n",
      "20\n",
      "25\n",
      "30\n",
      "35\n",
      "40\n"
     ]
    }
   ],
   "source": [
    "for i in range(len(pd_series_with_index)):\n",
    "    print(pd_series_with_index.iloc[i])"
   ]
  },
  {
   "cell_type": "markdown",
   "id": "6c27149c-79ac-4b5d-a473-eea02f59b0a8",
   "metadata": {},
   "source": [
    "### 6. Filter for data based on conditions"
   ]
  },
  {
   "cell_type": "code",
   "execution_count": 86,
   "id": "cd5c84fe-c59e-47e2-8999-5788d5ae83c5",
   "metadata": {},
   "outputs": [
    {
     "name": "stdout",
     "output_type": "stream",
     "text": [
      "a    15\n",
      "b    20\n",
      "dtype: int64\n",
      "d    30\n",
      "e    35\n",
      "f    40\n",
      "dtype: int64\n",
      "a    15\n",
      "b    20\n",
      "d    30\n",
      "e    35\n",
      "f    40\n",
      "dtype: int64\n"
     ]
    }
   ],
   "source": [
    "# Filter: values less than 25\n",
    "filtered_lessthan25 = pd_series_with_index[pd_series_with_index < 25]\n",
    "print(filtered_lessthan25)\n",
    "filtered_greaterthan25 = pd_series_with_index[pd_series_with_index > 25]\n",
    "print(filtered_greaterthan25)\n",
    "filtered_notequal25 = pd_series_with_index[pd_series_with_index != 25]\n",
    "print(filtered_notequal25)"
   ]
  },
  {
   "cell_type": "markdown",
   "id": "ae0d4ff9-ecfd-42ec-961f-1f9036d501c8",
   "metadata": {},
   "source": [
    "### 7. Check names in an index"
   ]
  },
  {
   "cell_type": "code",
   "execution_count": 98,
   "id": "b45c3eb4-9fc7-4a5b-a4ec-1b13363f5bc2",
   "metadata": {},
   "outputs": [
    {
     "name": "stdout",
     "output_type": "stream",
     "text": [
      "a\n",
      "b\n",
      "c\n",
      "d\n",
      "e\n",
      "f\n",
      "False\n",
      "True\n"
     ]
    }
   ],
   "source": [
    "for item in pd_series_with_index.index:\n",
    "    print(item)\n",
    "print('x' in pd_series_with_index.index)\n",
    "print('a' in pd_series_with_index.index)"
   ]
  },
  {
   "cell_type": "markdown",
   "id": "7ee37e2b-8dbb-4cf5-b4db-749939475d3a",
   "metadata": {},
   "source": [
    "### 8. Convert a Series to a Dictionary"
   ]
  },
  {
   "cell_type": "code",
   "execution_count": 108,
   "id": "ddf9b550-80bb-4c48-a5f7-ff8e9778e418",
   "metadata": {},
   "outputs": [
    {
     "name": "stdout",
     "output_type": "stream",
     "text": [
      "{'a': 15, 'b': 20, 'c': 25, 'd': 30, 'e': 35, 'f': 40}\n",
      "<class 'dict'>\n"
     ]
    }
   ],
   "source": [
    "data_dict = dict(pd_series_with_index)\n",
    "print(data_dict)\n",
    "print(type(data_dict))"
   ]
  },
  {
   "cell_type": "markdown",
   "id": "c2ddfba0-8dd2-4d76-9643-6b9226eee2a1",
   "metadata": {},
   "source": [
    "#### Convert a Dictionary to a Series"
   ]
  },
  {
   "cell_type": "code",
   "execution_count": 110,
   "id": "d456a474-a892-467f-a840-7c51d065bb8e",
   "metadata": {},
   "outputs": [
    {
     "name": "stdout",
     "output_type": "stream",
     "text": [
      "a    15\n",
      "b    20\n",
      "c    25\n",
      "d    30\n",
      "e    35\n",
      "f    40\n",
      "dtype: int64\n",
      "<class 'pandas.core.series.Series'>\n"
     ]
    }
   ],
   "source": [
    "pd_series_from_dict = pd.Series(data_dict)\n",
    "print(pd_series_from_dict)\n",
    "print(type(pd_series_from_dict))"
   ]
  },
  {
   "cell_type": "markdown",
   "id": "12dae61e-f8ca-4a71-bc11-543035a0510f",
   "metadata": {},
   "source": [
    "### 9. Create a new Series from an existing series"
   ]
  },
  {
   "cell_type": "code",
   "execution_count": 117,
   "id": "897fedae-6b7d-44f1-a756-4619f4f1c05d",
   "metadata": {},
   "outputs": [
    {
     "name": "stdout",
     "output_type": "stream",
     "text": [
      "a    15\n",
      "b    20\n",
      "c    25\n",
      "d    30\n",
      "e    35\n",
      "f    40\n",
      "dtype: int64\n",
      "d    30\n",
      "e    35\n",
      "f    40\n",
      "dtype: int64\n",
      "a     225\n",
      "b     400\n",
      "c     625\n",
      "d     900\n",
      "e    1225\n",
      "f    1600\n",
      "dtype: int64\n"
     ]
    }
   ],
   "source": [
    "# Copying the series\n",
    "copy_pd_series = pd_series_with_index.copy()\n",
    "print(copy_pd_series)\n",
    "\n",
    "# Filtering values greater than 25\n",
    "filtered_pd_series = pd_series_with_index[pd_series_with_index > 25]\n",
    "print(filtered_pd_series)\n",
    "\n",
    "# Arithmetic transformation\n",
    "squared_pd_series = pd_series_with_index ** 2\n",
    "print(squared_pd_series)"
   ]
  },
  {
   "cell_type": "markdown",
   "id": "18827e7b-4e1f-4985-b9b8-373939e6aeea",
   "metadata": {},
   "source": [
    "#### What values are given to the index added, if none are provided?"
   ]
  },
  {
   "cell_type": "markdown",
   "id": "a4da4ebb-7604-45ca-8b5c-f74c9d7cd441",
   "metadata": {},
   "source": [
    "if we didn't provide an index explicitly, the index will be inherited the default integer index from the original Series. Otherwise it will automatically generate the index from 0."
   ]
  },
  {
   "cell_type": "markdown",
   "id": "5b67394d-1554-4f86-aed8-00657fa57932",
   "metadata": {},
   "source": [
    "### 10. How do you check for NaN values?"
   ]
  },
  {
   "cell_type": "code",
   "execution_count": 120,
   "id": "b6da8c03-2e72-4a64-90fd-0b1fdcd77b55",
   "metadata": {},
   "outputs": [
    {
     "name": "stdout",
     "output_type": "stream",
     "text": [
      "0    False\n",
      "1    False\n",
      "2     True\n",
      "3    False\n",
      "4     True\n",
      "dtype: bool\n"
     ]
    }
   ],
   "source": [
    "pd_series = pd.Series([1, 2, np.nan, 4, np.nan])\n",
    "print(pd_series.isna())"
   ]
  },
  {
   "cell_type": "markdown",
   "id": "17dd4b32-83ac-4b09-814a-6a8596b6e902",
   "metadata": {},
   "source": [
    "### 11. How is NaN different to None?"
   ]
  },
  {
   "cell_type": "markdown",
   "id": "0b89e1fd-50bf-4cf2-8408-8f13438fe71c",
   "metadata": {},
   "source": [
    " NAN represent Not A Number, a special floating-point value representing missing/undefined numerical (data type : float )and None represents no value or null (data type : NoneType)"
   ]
  },
  {
   "cell_type": "markdown",
   "id": "8523e8d4-c135-4ae0-82f7-a6269a66a552",
   "metadata": {},
   "source": [
    "### 12. How do you check for Nulls?"
   ]
  },
  {
   "cell_type": "code",
   "execution_count": 126,
   "id": "76cf80a0-cc4b-4555-8f76-bb2940943273",
   "metadata": {},
   "outputs": [
    {
     "name": "stdout",
     "output_type": "stream",
     "text": [
      "0    False\n",
      "1     True\n",
      "2    False\n",
      "3     True\n",
      "4    False\n",
      "dtype: bool\n",
      "0    False\n",
      "1     True\n",
      "2    False\n",
      "3     True\n",
      "4    False\n",
      "dtype: bool\n"
     ]
    }
   ],
   "source": [
    "pd_series_with_null_nan = pd.Series([1, None, 3, np.nan, 5])\n",
    "print(pd_series_with_null_nan.isnull())\n",
    "print(pd_series_with_null_nan.isnull())"
   ]
  },
  {
   "cell_type": "markdown",
   "id": "df3704e7-a326-48ba-8d49-fe267a6a76c1",
   "metadata": {},
   "source": [
    "### 13. How do you name an index?"
   ]
  },
  {
   "cell_type": "code",
   "execution_count": 127,
   "id": "7dd522fb-88e0-4278-b13b-c15404adb5a3",
   "metadata": {},
   "outputs": [
    {
     "name": "stdout",
     "output_type": "stream",
     "text": [
      "letters\n",
      "x    1\n",
      "y    2\n",
      "z    3\n",
      "dtype: int64\n"
     ]
    }
   ],
   "source": [
    "pd_series = pd.Series([1, 2, 3], index=['x', 'y', 'z'])\n",
    "pd_series.index.name = 'letters'\n",
    "print(pd_series)"
   ]
  },
  {
   "cell_type": "markdown",
   "id": "ff44044f-67ca-42c1-9fc9-4d22efb0e81d",
   "metadata": {},
   "source": [
    "### 14. How do you name a Series?"
   ]
  },
  {
   "cell_type": "code",
   "execution_count": 128,
   "id": "7d886ae1-6818-4558-8753-a6348d1bed32",
   "metadata": {},
   "outputs": [
    {
     "name": "stdout",
     "output_type": "stream",
     "text": [
      "letters\n",
      "x    1\n",
      "y    2\n",
      "z    3\n",
      "Name: series123, dtype: int64\n"
     ]
    }
   ],
   "source": [
    "pd_series.name = 'series123'\n",
    "print(pd_series)"
   ]
  }
 ],
 "metadata": {
  "kernelspec": {
   "display_name": "Python 3 (ipykernel)",
   "language": "python",
   "name": "python3"
  },
  "language_info": {
   "codemirror_mode": {
    "name": "ipython",
    "version": 3
   },
   "file_extension": ".py",
   "mimetype": "text/x-python",
   "name": "python",
   "nbconvert_exporter": "python",
   "pygments_lexer": "ipython3",
   "version": "3.12.2"
  }
 },
 "nbformat": 4,
 "nbformat_minor": 5
}
